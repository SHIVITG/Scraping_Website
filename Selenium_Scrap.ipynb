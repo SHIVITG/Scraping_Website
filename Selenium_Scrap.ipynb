{
 "cells": [
  {
   "cell_type": "code",
   "execution_count": 14,
   "metadata": {},
   "outputs": [],
   "source": [
    "#libraries to be imported\n",
    "#..............to execute SHIFT + ENTER\n",
    "from selenium import webdriver \n",
    "from selenium.webdriver.common.by import By \n",
    "from selenium.webdriver.support.ui import WebDriverWait, Select\n",
    "from selenium.webdriver.support import expected_conditions as EC \n",
    "from selenium.webdriver.support.wait import WebDriverWait\n",
    "from selenium.common.exceptions import TimeoutException\n",
    "import time, re, csv, os, wget\n",
    "from selenium.webdriver.common.keys import Keys\n",
    "import pandas as pd\n",
    "import requests\n",
    "from bs4 import BeautifulSoup\n",
    "from selenium import webdriver\n",
    "from selenium.webdriver.support.ui import WebDriverWait\n",
    "from selenium.webdriver.support import expected_conditions\n",
    "from selenium.webdriver.support.select import Select\n",
    "from selenium.webdriver import ActionChains"
   ]
  },
  {
   "cell_type": "code",
   "execution_count": 15,
   "metadata": {},
   "outputs": [],
   "source": [
    "driver = webdriver.Chrome('chromedriver_win32/chromedriver.exe')\n",
    "driver.get(\"https://www.northguru.com/packages\")"
   ]
  },
  {
   "cell_type": "code",
   "execution_count": 16,
   "metadata": {},
   "outputs": [],
   "source": [
    "driver.find_element_by_xpath(\"//input[@placeholder='E-mail id / Mobile Number']\").send_keys(\"pinkitours12@yahoo.com \")\n",
    "driver.find_element_by_xpath(\"//input[@placeholder='Password']\").send_keys(\"manoj123\")\n",
    "driver.find_element_by_xpath(\"//input[@value='Login']\").click()"
   ]
  },
  {
   "cell_type": "code",
   "execution_count": 18,
   "metadata": {},
   "outputs": [],
   "source": [
    "def scroll():\n",
    "    SCROLL_PAUSE_TIME = 0.5\n",
    "    last_height = driver.execute_script(\"return document.body.scrollHeight\")\n",
    "    while True:\n",
    "        driver.execute_script(\"window.scrollTo(0, document.body.scrollHeight)\")\n",
    "        time.sleep(SCROLL_PAUSE_TIME)\n",
    "        new_height = driver.execute_script(\"return document.body.scrollHeight\")\n",
    "        if new_height == last_height:\n",
    "            break\n",
    "        last_height = new_height"
   ]
  },
  {
   "cell_type": "code",
   "execution_count": null,
   "metadata": {},
   "outputs": [],
   "source": [
    "north_states=['Rajasthan']\n",
    "# north_states = ['Jammu and Kashmir','Arunachal Pradesh', 'Assam','Himachal Pradesh','Uttarakhand','Punjab','Uttar Pradesh','Delhi','Rajasthan','Bihar','Gujarat','Madhya Pradesh','West Bengal']\n",
    "inputDest = driver.find_element_by_class_name(\"fstQueryInput\")\n",
    "inputDest.send_keys(north_states)\n",
    "driver.find_element_by_xpath(\"//span[contains(@class,'fstResultItem') and contains(@class,'state-label')]\").click()\n",
    "driver.find_element_by_xpath(\"//input[@id='search_packages']\").click()\n",
    "driver.implicitly_wait(130)"
   ]
  },
  {
   "cell_type": "code",
   "execution_count": 22,
   "metadata": {},
   "outputs": [],
   "source": [
    "scroll()\n",
    "driver.implicitly_wait(20)"
   ]
  },
  {
   "cell_type": "code",
   "execution_count": null,
   "metadata": {},
   "outputs": [],
   "source": [
    "#scroll()\n",
    "# change file name according to state\n",
    "csv_file = open('Uttarakhand.csv', 'w',encoding=\"utf-8\")\n",
    "csv_writer = csv.writer(csv_file)\n",
    "csv_writer.writerow(['Id','Package_Name', 'No_of_days','Destination', 'Calculation', 'Vehicle_Details', 'Inclusion', 'Exclusion','Payment_Policy', 'Cancellation_Policy'])\n",
    "soup = BeautifulSoup(driver.page_source)\n",
    "driver.implicitly_wait(120)\n",
    "main = soup.findAll('div', {'class' : 'middle-container'})  \n",
    "for div in main:\n",
    "    driver.implicitly_wait(120)\n",
    "    count = 0\n",
    "    for j in div.findAll('div', {'class' : 'packagecontainer-top'}):\n",
    "        driver.implicitly_wait(120)\n",
    "        p_id = j.find('p', {'class' : 'trip_id'}).string\n",
    "        p_name = j.find('h1', {'class' : 'pull-left'}).text\n",
    "        p_name = p_name.replace(\"â€“\", \"\")\n",
    "        print(p_name)\n",
    "        days = p_name[p_name.find(\"(\")+1:p_name.find(\")\")]\n",
    "        dest = j.find('p', {'class' : 'city_nights'}).text\n",
    "        vehicle = j.find('span', {'class': 'vehicle_name'}).text\n",
    "        calc = j.find('p', {'class':'rate'}).text\n",
    "        calc = calc.replace(\"R\", \"Rs.\").replace(\"Per\",\" Per\")\n",
    "        #print(p_id,p_name,dest, calc, vehicle)\n",
    "        inc = \"Sightseeing as per the itinerary.Breakfast, Lunch or Dinner at the hotels mentioned.Accommodation for trip on double sharing basis.All Transfers, excursions & sightseeing as per the itinerary by private TOYOTA Innova in Deluxe Package.Below 5 Yrs Child sharing same bed with parents will be Complimentary.Parking and all transport related expense including Driver Services.All toll taxes, parking fees, Fuel and driver's allowance.Welcome drink on arrival.All Transport & Hotels Related Taxes.GST & all Government Taxes.A 24 - hour helpline.Assistance on Arrival.No Hidden Cost.\"\n",
    "        ex = \"Personal expenses such as laundry, telephone calls, tips &amp; gratuity, mineral water, soft &amp; hard drinks, porterage.Anything not mentioned in the inclusions.Additional sightseeing or extra usage of vehicle, other than mentioned in the itinerary.Entrance Fees & Guide charges.Any cost arising due to natural calamities like, landslides, road blockage, political disturbances (strikes), etc (to be borne by the client, who is directly payable on the spot).Any increase in Airlines taxes or fuel price at the time of departure, leading to increase in cost on surface transportation &amp; land arrangements, which may come into effect prior to departure.Still camera/ video camera charger.\"\n",
    "        important_note= \"Rates are not valid for peak Festive  season i.e. New Year , Diwali , Pushkar fair etc.Rates are based on Hotels Subject to Availability at the time of making Reservation. In case of unavailability in mentioned hotels,alternate accommodation will be arranged in a similar category hotel.Rates are subject to change if there is any Fair &amp; Festival, Major conference, events in travel destination.Early check in / late checks out is subject to availability of rooms.Cancellation charges would be as per the company policy.Vehicle confirmed will be as per Itinerary and not at disposal. AC will work only in the plains and will be switched off during hill drives.All sightseeing mentioned are subject to weather conditions, political conditions &amp; traffic conditions in the destination.Any sightseeing missed due to natural calamities / weather conditions is non-refundable.All entrances fees will be on direct payment basis as per Itinerary.It is not advisable to travel in night, if necessary supplement charge applicable.\"\n",
    "        pp = \"Deposit of 25% of the package cost at the time of booking.Need 50% payment of the package cost, 30 days prior to departure date.Need 100% payment of the package cost, 15 days prior to departure date.\"\n",
    "        cp= \"10% of full tour cost - 60 days prior to arrival.25% of full tour cost - 30 days prior to arrival.50% of full tour cost - between 15 &amp; 29 days prior to tour.75% of full tour cost - between 14 &amp; 7 days prior to tour.100% -&nbsp;within 7 days&nbsp;prior to tour.\"\n",
    "        count = count + 1\n",
    "        print(count)\n",
    "        csv_writer.writerow([p_id,p_name, days,dest, calc, vehicle,inc,ex,important_note,pp,cp])\n",
    "        print(\"........................................................\")\n",
    "#csv_file.close()\n",
    "        "
   ]
  },
  {
   "cell_type": "code",
   "execution_count": null,
   "metadata": {},
   "outputs": [],
   "source": []
  }
 ],
 "metadata": {
  "kernelspec": {
   "display_name": "Python 3",
   "language": "python",
   "name": "python3"
  },
  "language_info": {
   "codemirror_mode": {
    "name": "ipython",
    "version": 3
   },
   "file_extension": ".py",
   "mimetype": "text/x-python",
   "name": "python",
   "nbconvert_exporter": "python",
   "pygments_lexer": "ipython3",
   "version": "3.7.3"
  }
 },
 "nbformat": 4,
 "nbformat_minor": 2
}
